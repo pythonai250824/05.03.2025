{
 "cells": [
  {
   "cell_type": "code",
   "execution_count": 1,
   "id": "1fa95a37-e109-432f-97f3-d4e69bed6f07",
   "metadata": {},
   "outputs": [],
   "source": [
    "import numpy as np\n",
    "from IPython.display import display\n",
    "import pandas as pd"
   ]
  },
  {
   "cell_type": "code",
   "execution_count": 2,
   "id": "28247c84-684f-478f-a841-758afde78605",
   "metadata": {},
   "outputs": [
    {
     "data": {
      "text/plain": [
       "\u001b[1;31mInit signature:\u001b[0m\n",
       "\u001b[0mpd\u001b[0m\u001b[1;33m.\u001b[0m\u001b[0mSeries\u001b[0m\u001b[1;33m(\u001b[0m\u001b[1;33m\n",
       "\u001b[0m    \u001b[0mdata\u001b[0m\u001b[1;33m=\u001b[0m\u001b[1;32mNone\u001b[0m\u001b[1;33m,\u001b[0m\u001b[1;33m\n",
       "\u001b[0m    \u001b[0mindex\u001b[0m\u001b[1;33m=\u001b[0m\u001b[1;32mNone\u001b[0m\u001b[1;33m,\u001b[0m\u001b[1;33m\n",
       "\u001b[0m    \u001b[0mdtype\u001b[0m\u001b[1;33m:\u001b[0m \u001b[1;34m'Dtype | None'\u001b[0m \u001b[1;33m=\u001b[0m \u001b[1;32mNone\u001b[0m\u001b[1;33m,\u001b[0m\u001b[1;33m\n",
       "\u001b[0m    \u001b[0mname\u001b[0m\u001b[1;33m=\u001b[0m\u001b[1;32mNone\u001b[0m\u001b[1;33m,\u001b[0m\u001b[1;33m\n",
       "\u001b[0m    \u001b[0mcopy\u001b[0m\u001b[1;33m:\u001b[0m \u001b[1;34m'bool | None'\u001b[0m \u001b[1;33m=\u001b[0m \u001b[1;32mNone\u001b[0m\u001b[1;33m,\u001b[0m\u001b[1;33m\n",
       "\u001b[0m    \u001b[0mfastpath\u001b[0m\u001b[1;33m:\u001b[0m \u001b[1;34m'bool'\u001b[0m \u001b[1;33m=\u001b[0m \u001b[1;32mFalse\u001b[0m\u001b[1;33m,\u001b[0m\u001b[1;33m\n",
       "\u001b[0m\u001b[1;33m)\u001b[0m \u001b[1;33m->\u001b[0m \u001b[1;34m'None'\u001b[0m\u001b[1;33m\u001b[0m\u001b[1;33m\u001b[0m\u001b[0m\n",
       "\u001b[1;31mDocstring:\u001b[0m     \n",
       "One-dimensional ndarray with axis labels (including time series).\n",
       "\n",
       "Labels need not be unique but must be a hashable type. The object\n",
       "supports both integer- and label-based indexing and provides a host of\n",
       "methods for performing operations involving the index. Statistical\n",
       "methods from ndarray have been overridden to automatically exclude\n",
       "missing data (currently represented as NaN).\n",
       "\n",
       "Operations between Series (+, -, /, \\*, \\*\\*) align values based on their\n",
       "associated index values-- they need not be the same length. The result\n",
       "index will be the sorted union of the two indexes.\n",
       "\n",
       "Parameters\n",
       "----------\n",
       "data : array-like, Iterable, dict, or scalar value\n",
       "    Contains data stored in Series. If data is a dict, argument order is\n",
       "    maintained.\n",
       "index : array-like or Index (1d)\n",
       "    Values must be hashable and have the same length as `data`.\n",
       "    Non-unique index values are allowed. Will default to\n",
       "    RangeIndex (0, 1, 2, ..., n) if not provided. If data is dict-like\n",
       "    and index is None, then the keys in the data are used as the index. If the\n",
       "    index is not None, the resulting Series is reindexed with the index values.\n",
       "dtype : str, numpy.dtype, or ExtensionDtype, optional\n",
       "    Data type for the output Series. If not specified, this will be\n",
       "    inferred from `data`.\n",
       "    See the :ref:`user guide <basics.dtypes>` for more usages.\n",
       "name : Hashable, default None\n",
       "    The name to give to the Series.\n",
       "copy : bool, default False\n",
       "    Copy input data. Only affects Series or 1d ndarray input. See examples.\n",
       "\n",
       "Notes\n",
       "-----\n",
       "Please reference the :ref:`User Guide <basics.series>` for more information.\n",
       "\n",
       "Examples\n",
       "--------\n",
       "Constructing Series from a dictionary with an Index specified\n",
       "\n",
       ">>> d = {'a': 1, 'b': 2, 'c': 3}\n",
       ">>> ser = pd.Series(data=d, index=['a', 'b', 'c'])\n",
       ">>> ser\n",
       "a   1\n",
       "b   2\n",
       "c   3\n",
       "dtype: int64\n",
       "\n",
       "The keys of the dictionary match with the Index values, hence the Index\n",
       "values have no effect.\n",
       "\n",
       ">>> d = {'a': 1, 'b': 2, 'c': 3}\n",
       ">>> ser = pd.Series(data=d, index=['x', 'y', 'z'])\n",
       ">>> ser\n",
       "x   NaN\n",
       "y   NaN\n",
       "z   NaN\n",
       "dtype: float64\n",
       "\n",
       "Note that the Index is first build with the keys from the dictionary.\n",
       "After this the Series is reindexed with the given Index values, hence we\n",
       "get all NaN as a result.\n",
       "\n",
       "Constructing Series from a list with `copy=False`.\n",
       "\n",
       ">>> r = [1, 2]\n",
       ">>> ser = pd.Series(r, copy=False)\n",
       ">>> ser.iloc[0] = 999\n",
       ">>> r\n",
       "[1, 2]\n",
       ">>> ser\n",
       "0    999\n",
       "1      2\n",
       "dtype: int64\n",
       "\n",
       "Due to input data type the Series has a `copy` of\n",
       "the original data even though `copy=False`, so\n",
       "the data is unchanged.\n",
       "\n",
       "Constructing Series from a 1d ndarray with `copy=False`.\n",
       "\n",
       ">>> r = np.array([1, 2])\n",
       ">>> ser = pd.Series(r, copy=False)\n",
       ">>> ser.iloc[0] = 999\n",
       ">>> r\n",
       "array([999,   2])\n",
       ">>> ser\n",
       "0    999\n",
       "1      2\n",
       "dtype: int64\n",
       "\n",
       "Due to input data type the Series has a `view` on\n",
       "the original data, so\n",
       "the data is changed as well.\n",
       "\u001b[1;31mFile:\u001b[0m           c:\\programdata\\anaconda3\\lib\\site-packages\\pandas\\core\\series.py\n",
       "\u001b[1;31mType:\u001b[0m           type\n",
       "\u001b[1;31mSubclasses:\u001b[0m     SubclassedSeries"
      ]
     },
     "metadata": {},
     "output_type": "display_data"
    }
   ],
   "source": [
    "# pd.Series\n",
    "# pd.DataFrame\n",
    "?pd.Series"
   ]
  },
  {
   "cell_type": "code",
   "execution_count": 13,
   "id": "3ec7dcce-83f4-4d49-b293-3ac200aafbda",
   "metadata": {},
   "outputs": [
    {
     "name": "stdout",
     "output_type": "stream",
     "text": [
      "0     10.0\n",
      "1    100.0\n",
      "2     15.0\n",
      "3     35.0\n",
      "4      3.5\n",
      "dtype: float64\n",
      "<class 'pandas.core.series.Series'>\n",
      "100.0\n",
      "\n",
      "0    10.0\n",
      "2    15.0\n",
      "4     3.5\n",
      "dtype: float64\n",
      "\n",
      "3    35.0\n",
      "dtype: float64\n",
      "\n",
      "4      3.5\n",
      "3     35.0\n",
      "2     15.0\n",
      "1    100.0\n",
      "0     10.0\n",
      "dtype: float64\n"
     ]
    }
   ],
   "source": [
    "pd_series = pd.Series([10, 100, 15, 35, 3.5])\n",
    "print(pd_series)\n",
    "print(type(pd_series))\n",
    "print(pd_series[1])\n",
    "print()\n",
    "print(pd_series[0::2])\n",
    "print()\n",
    "print(pd_series[3::2])\n",
    "print()\n",
    "print(pd_series[::-1])"
   ]
  },
  {
   "cell_type": "code",
   "execution_count": 42,
   "id": "aa72575b-d6d6-4992-829a-e8098040f15f",
   "metadata": {},
   "outputs": [
    {
     "name": "stdout",
     "output_type": "stream",
     "text": [
      "USA       1776\n",
      "CANADA    1867\n",
      "MEXICO    1821\n",
      "dtype: int64\n",
      "\n"
     ]
    },
    {
     "data": {
      "text/plain": [
       "0    1776\n",
       "1    1867\n",
       "2    1821\n",
       "dtype: int64"
      ]
     },
     "metadata": {},
     "output_type": "display_data"
    },
    {
     "name": "stdout",
     "output_type": "stream",
     "text": [
      "\n"
     ]
    },
    {
     "data": {
      "text/plain": [
       "None"
      ]
     },
     "metadata": {},
     "output_type": "display_data"
    },
    {
     "name": "stdout",
     "output_type": "stream",
     "text": [
      "----------------\n"
     ]
    },
    {
     "data": {
      "text/plain": [
       "A    1776\n",
       "B    1867\n",
       "C    1821\n",
       "dtype: int64"
      ]
     },
     "metadata": {},
     "output_type": "display_data"
    },
    {
     "name": "stdout",
     "output_type": "stream",
     "text": [
      "\n"
     ]
    },
    {
     "data": {
      "text/plain": [
       "B    1867\n",
       "C    1821\n",
       "A    1776\n",
       "dtype: int64"
      ]
     },
     "metadata": {},
     "output_type": "display_data"
    },
    {
     "name": "stdout",
     "output_type": "stream",
     "text": [
      "\n"
     ]
    }
   ],
   "source": [
    "values = [1776, 1867, 1821]  # list\n",
    "label_index = ['USA', 'CANADA', 'MEXICO']\n",
    "\n",
    "pd_series = pd.Series(data=values, index=label_index)\n",
    "print(pd_series)\n",
    "print()\n",
    "display(pd_series.reset_index(drop=True))  # sorted -- generated new Series\n",
    "print()\n",
    "display(pd_series.reset_index(drop=True, inplace=True))  # sort -- changed the original -- None\n",
    "print('----------------')\n",
    "pd_series.index = ['A', 'B', 'C'] # label_index\n",
    "display(pd_series)\n",
    "print()\n",
    "pd_series = pd_series.reindex(['B', 'C', 'A'])\n",
    "display(pd_series)\n",
    "print()\n"
   ]
  },
  {
   "cell_type": "code",
   "execution_count": 66,
   "id": "69612b16-b5d4-4798-86fc-4d47fadcb5c0",
   "metadata": {},
   "outputs": [
    {
     "name": "stdout",
     "output_type": "stream",
     "text": [
      "USA       1776\n",
      "CANADA    1867\n",
      "MEXICO    1821\n",
      "dtype: int64\n",
      "\n",
      "Index(['USA', 'CANADA', 'MEXICO'], dtype='object')\n",
      "['USA', 'CANADA', 'MEXICO']\n",
      "\n",
      "pd_ser_dict.keys()[::-1] Index(['MEXICO', 'CANADA', 'USA'], dtype='object')\n",
      "\n",
      "pd_ser_dict.values [1776 1867 1821]\n",
      "\n"
     ]
    },
    {
     "data": {
      "text/plain": [
       "\"pd_ser_dict['USA']\""
      ]
     },
     "metadata": {},
     "output_type": "display_data"
    },
    {
     "data": {
      "text/plain": [
       "1776"
      ]
     },
     "metadata": {},
     "output_type": "display_data"
    },
    {
     "name": "stdout",
     "output_type": "stream",
     "text": [
      "\n"
     ]
    },
    {
     "name": "stderr",
     "output_type": "stream",
     "text": [
      "C:\\Users\\User\\AppData\\Local\\Temp\\ipykernel_15328\\955501968.py:15: FutureWarning: Series.__getitem__ treating keys as positions is deprecated. In a future version, integer keys will always be treated as labels (consistent with DataFrame behavior). To access a value by position, use `ser.iloc[pos]`\n",
      "  display(\"pd_ser_dict[0]\", pd_ser_dict[0])  # warning\n"
     ]
    },
    {
     "data": {
      "text/plain": [
       "'pd_ser_dict[0]'"
      ]
     },
     "metadata": {},
     "output_type": "display_data"
    },
    {
     "data": {
      "text/plain": [
       "1776"
      ]
     },
     "metadata": {},
     "output_type": "display_data"
    },
    {
     "name": "stdout",
     "output_type": "stream",
     "text": [
      "\n"
     ]
    },
    {
     "data": {
      "text/plain": [
       "'pd_ser_dict.iloc[0]'"
      ]
     },
     "metadata": {},
     "output_type": "display_data"
    },
    {
     "data": {
      "text/plain": [
       "1776"
      ]
     },
     "metadata": {},
     "output_type": "display_data"
    }
   ],
   "source": [
    "dict1 = { 'USA': 1776, 'CANADA': 1867, 'MEXICO' : 1821 }\n",
    "pd_ser_dict = pd.Series(dict1)\n",
    "print(pd_ser_dict)\n",
    "print()\n",
    "\n",
    "print(pd_ser_dict.keys())\n",
    "print(list(pd_ser_dict.keys()))\n",
    "print()\n",
    "print(\"pd_ser_dict.keys()[::-1]\", pd_ser_dict.keys()[::-1])\n",
    "print()\n",
    "print(\"pd_ser_dict.values\", pd_ser_dict.values)\n",
    "print()\n",
    "display(\"pd_ser_dict['USA']\", pd_ser_dict['USA'])\n",
    "print()\n",
    "display(\"pd_ser_dict[0]\", pd_ser_dict[0])  # warning\n",
    "print()\n",
    "display(\"pd_ser_dict.iloc[0]\", pd_ser_dict.iloc[0])  # warning"
   ]
  },
  {
   "cell_type": "code",
   "execution_count": 67,
   "id": "8c903913-05eb-41f3-be7e-a2140e8746a1",
   "metadata": {},
   "outputs": [
    {
     "name": "stdout",
     "output_type": "stream",
     "text": [
      "pd_series + second_ser\n",
      " Brazil   NaN\n",
      "CANADA   NaN\n",
      "CHINA    NaN\n",
      "MEXICO   NaN\n",
      "USA      NaN\n",
      "Usa      NaN\n",
      "dtype: float64\n",
      "\n",
      "Brazil    1768.0\n",
      "CANADA    1867.0\n",
      "CHINA      200.0\n",
      "MEXICO    1821.0\n",
      "USA       1776.0\n",
      "Usa        100.0\n",
      "dtype: float64\n",
      "\n",
      "Brazil    1768\n",
      "CANADA    1867\n",
      "CHINA      200\n",
      "MEXICO    1821\n",
      "USA       1776\n",
      "Usa        100\n",
      "dtype: int32\n"
     ]
    }
   ],
   "source": [
    "\n",
    "data = [1776, 1867, 1821]  # list\n",
    "label_index = ['USA', 'CANADA', 'MEXICO']\n",
    "pd_series = pd.Series(data=data, index=label_index)\n",
    "\n",
    "second = {'Usa': 100, 'Brazil': 1768, 'CHINA': 200}\n",
    "second_ser = pd.Series(second)\n",
    "\n",
    "# concat series\n",
    "print('pd_series + second_ser\\n', pd_series + second_ser)  # + operator , must have a match or you'll get NaN\n",
    "print()\n",
    "print(pd_series.add(second_ser, fill_value=0))\n",
    "print()\n",
    "print(pd_series.add(second_ser, fill_value=0).astype(int))\n",
    "#print(pd_series + second_ser))  # + operator , must have a match or you'll get NaN"
   ]
  }
 ],
 "metadata": {
  "kernelspec": {
   "display_name": "Python 3 (ipykernel)",
   "language": "python",
   "name": "python3"
  },
  "language_info": {
   "codemirror_mode": {
    "name": "ipython",
    "version": 3
   },
   "file_extension": ".py",
   "mimetype": "text/x-python",
   "name": "python",
   "nbconvert_exporter": "python",
   "pygments_lexer": "ipython3",
   "version": "3.11.7"
  }
 },
 "nbformat": 4,
 "nbformat_minor": 5
}
